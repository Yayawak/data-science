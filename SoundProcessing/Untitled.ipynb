{
 "cells": [
  {
   "cell_type": "code",
   "execution_count": 5,
   "id": "722e4ffe-9f04-45d8-b908-8dc23e2149a3",
   "metadata": {},
   "outputs": [
    {
     "name": "stdout",
     "output_type": "stream",
     "text": [
      "\u001b[34m==>\u001b[0m \u001b[1mDownloading https://ghcr.io/v2/homebrew/core/portaudio/manifests/19.7.0-1\u001b[0m\n",
      "Already downloaded: /Users/rio/Library/Caches/Homebrew/downloads/2ba32ec74d5080567eae3412994e5c8bc39afcd1dacfe3a0d347d210e47c5f7e--portaudio-19.7.0-1.bottle_manifest.json\n",
      "\u001b[34m==>\u001b[0m \u001b[1mDownloading https://ghcr.io/v2/homebrew/core/portaudio/blobs/sha256:8f390bc5\u001b[0m\n",
      "Already downloaded: /Users/rio/Library/Caches/Homebrew/downloads/c1fa92f01d5c060c79bea1c294e230dc5a074a49c42f39b9bf68bffa6c79ea98--portaudio--19.7.0.arm64_monterey.bottle.1.tar.gz\n",
      "\u001b[34m==>\u001b[0m \u001b[1mPouring portaudio--19.7.0.arm64_monterey.bottle.1.tar.gz\u001b[0m\n",
      "🍺  /opt/homebrew/Cellar/portaudio/19.7.0: 33 files, 543.2KB\n",
      "\u001b[34m==>\u001b[0m \u001b[1mRunning `brew cleanup portaudio`...\u001b[0m\n",
      "Disable this behaviour by setting HOMEBREW_NO_INSTALL_CLEANUP.\n",
      "Hide these hints with HOMEBREW_NO_ENV_HINTS (see `man brew`).\n"
     ]
    }
   ],
   "source": [
    "# !pip install pyaudio\n",
    "!arch -arm64 brew install portaudio\n"
   ]
  },
  {
   "cell_type": "code",
   "execution_count": 10,
   "id": "08026171-037f-46e3-9b51-b7c9771fdb6a",
   "metadata": {},
   "outputs": [],
   "source": [
    "# !python -m pip install --global-option='build_ext' --global-option='-I/opt/homebrew/Cellar/portaudio/19.7.0/include' --global-option='-L/opt/homebrew/Cellar/portaudio/19.7.0/lib' pyaudio\n"
   ]
  },
  {
   "cell_type": "code",
   "execution_count": 12,
   "id": "f8d70ee7-b8c7-4251-ade5-4f2b2f285db5",
   "metadata": {},
   "outputs": [],
   "source": [
    "# !pip install pyaudio"
   ]
  },
  {
   "cell_type": "code",
   "execution_count": 7,
   "id": "872a6623-650e-4202-b454-50178bf6da7c",
   "metadata": {},
   "outputs": [
    {
     "ename": "ModuleNotFoundError",
     "evalue": "No module named 'pyaudio'",
     "output_type": "error",
     "traceback": [
      "\u001b[0;31m---------------------------------------------------------------------------\u001b[0m",
      "\u001b[0;31mModuleNotFoundError\u001b[0m                       Traceback (most recent call last)",
      "Input \u001b[0;32mIn [7]\u001b[0m, in \u001b[0;36m<cell line: 2>\u001b[0;34m()\u001b[0m\n\u001b[1;32m      1\u001b[0m \u001b[38;5;28;01mimport\u001b[39;00m \u001b[38;5;21;01mmath\u001b[39;00m\n\u001b[0;32m----> 2\u001b[0m \u001b[38;5;28;01mimport\u001b[39;00m \u001b[38;5;21;01mpyaudio\u001b[39;00m\n",
      "\u001b[0;31mModuleNotFoundError\u001b[0m: No module named 'pyaudio'"
     ]
    }
   ],
   "source": [
    "import math\n",
    "import pyaudio"
   ]
  },
  {
   "cell_type": "code",
   "execution_count": null,
   "id": "1b92d071-7787-4d05-9a7f-e6ca1302f432",
   "metadata": {},
   "outputs": [],
   "source": []
  }
 ],
 "metadata": {
  "kernelspec": {
   "display_name": "Python 3 (ipykernel)",
   "language": "python",
   "name": "python3"
  },
  "language_info": {
   "codemirror_mode": {
    "name": "ipython",
    "version": 3
   },
   "file_extension": ".py",
   "mimetype": "text/x-python",
   "name": "python",
   "nbconvert_exporter": "python",
   "pygments_lexer": "ipython3",
   "version": "3.9.12"
  }
 },
 "nbformat": 4,
 "nbformat_minor": 5
}
