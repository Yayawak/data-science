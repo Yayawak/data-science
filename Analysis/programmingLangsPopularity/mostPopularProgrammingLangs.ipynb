{
 "cells": [
  {
   "cell_type": "code",
   "execution_count": 4,
   "id": "b56439f2-78ae-4de4-967d-e419f66a9d49",
   "metadata": {},
   "outputs": [],
   "source": [
    "# !pip install palettable"
   ]
  },
  {
   "cell_type": "code",
   "execution_count": 2,
   "id": "327d3766-0ddc-4754-a412-5bcb1720fe6a",
   "metadata": {},
   "outputs": [
    {
     "ename": "ModuleNotFoundError",
     "evalue": "No module named 'plotly'",
     "output_type": "error",
     "traceback": [
      "\u001b[0;31m---------------------------------------------------------------------------\u001b[0m",
      "\u001b[0;31mModuleNotFoundError\u001b[0m                       Traceback (most recent call last)",
      "Cell \u001b[0;32mIn[2], line 10\u001b[0m\n\u001b[1;32m      8\u001b[0m \u001b[38;5;28;01mfrom\u001b[39;00m \u001b[38;5;21;01mIPython\u001b[39;00m\u001b[38;5;21;01m.\u001b[39;00m\u001b[38;5;21;01mdisplay\u001b[39;00m \u001b[38;5;28;01mimport\u001b[39;00m HTML\n\u001b[1;32m      9\u001b[0m \u001b[38;5;28;01mimport\u001b[39;00m \u001b[38;5;21;01mseaborn\u001b[39;00m \u001b[38;5;28;01mas\u001b[39;00m \u001b[38;5;21;01msns\u001b[39;00m\n\u001b[0;32m---> 10\u001b[0m \u001b[38;5;28;01mimport\u001b[39;00m \u001b[38;5;21;01mplotly\u001b[39;00m\u001b[38;5;21;01m.\u001b[39;00m\u001b[38;5;21;01mexpress\u001b[39;00m \u001b[38;5;28;01mas\u001b[39;00m \u001b[38;5;21;01mpx\u001b[39;00m\n\u001b[1;32m     11\u001b[0m \u001b[38;5;28;01mfrom\u001b[39;00m \u001b[38;5;21;01mdatetime\u001b[39;00m \u001b[38;5;28;01mimport\u001b[39;00m datetime\n",
      "\u001b[0;31mModuleNotFoundError\u001b[0m: No module named 'plotly'"
     ]
    }
   ],
   "source": [
    "import pandas as pd\n",
    "import numpy as np\n",
    "import matplotlib as mpl\n",
    "import matplotlib.pyplot as plt\n",
    "from matplotlib import cm\n",
    "from matplotlib import animation\n",
    "from matplotlib.animation import FuncAnimation\n",
    "from IPython.display import HTML\n",
    "import seaborn as sns\n",
    "import plotly.express as px\n",
    "from datetime import datetime"
   ]
  },
  {
   "cell_type": "code",
   "execution_count": null,
   "id": "f5b2f0f1-9391-4427-8f1d-77d4f7e4c238",
   "metadata": {},
   "outputs": [],
   "source": [
    "from palettable.matplotlib import Magma_20_r, Magma_10_r"
   ]
  },
  {
   "cell_type": "code",
   "execution_count": null,
   "id": "a01da6ce-98d4-4b27-a580-7adf3c5162c7",
   "metadata": {},
   "outputs": [],
   "source": [
    "92"
   ]
  },
  {
   "cell_type": "code",
   "execution_count": null,
   "id": "ae8c7204-3f2d-43ac-b6a5-90b7ae41b1d1",
   "metadata": {},
   "outputs": [],
   "source": [
    "data = pd.read_csv(\"/Users/rio/Documents/data_science/datasets_for_analysis/excels/Most Popular Programming Languages from 2004 to 2022.csv.xls\")\n",
    "data"
   ]
  },
  {
   "cell_type": "code",
   "execution_count": null,
   "id": "b4391325-c631-4468-89a4-963dd0e90324",
   "metadata": {},
   "outputs": [],
   "source": [
    "data.isna().sum()"
   ]
  },
  {
   "cell_type": "code",
   "execution_count": null,
   "id": "998c3f2b-ceb9-4a89-85a7-d517eb8468f8",
   "metadata": {},
   "outputs": [],
   "source": [
    "data[\"Date\"] = pd.to_datetime(data[\"Date\"])\n",
    "data.head()"
   ]
  },
  {
   "cell_type": "code",
   "execution_count": null,
   "id": "4a4ef6d4-481b-4a25-b6ca-c3389ecbc10d",
   "metadata": {},
   "outputs": [],
   "source": [
    "data.info()"
   ]
  },
  {
   "cell_type": "code",
   "execution_count": null,
   "id": "21c228d5-a0b8-43d0-8a62-3ea827772f6d",
   "metadata": {},
   "outputs": [],
   "source": [
    "data.describe()"
   ]
  },
  {
   "cell_type": "markdown",
   "id": "32cedbc2-b579-40b5-8279-53dbd4aa8c3b",
   "metadata": {},
   "source": [
    "# Viz"
   ]
  },
  {
   "cell_type": "code",
   "execution_count": null,
   "id": "d93a9e91-4329-46e1-a786-612d8698c80c",
   "metadata": {},
   "outputs": [],
   "source": [
    "palette = 'magma_r'\n",
    "sns.set(style='darkgrid')\n",
    "\n",
    "def generate_color_series(n):\n",
    "    segments = cm.get_cmap(palette, n)\n",
    "    return segments(range(n))"
   ]
  },
  {
   "cell_type": "code",
   "execution_count": null,
   "id": "e91fb506-dc80-41ce-b416-03a403980474",
   "metadata": {},
   "outputs": [],
   "source": [
    "generate_color_series(5)"
   ]
  },
  {
   "cell_type": "code",
   "execution_count": null,
   "id": "f4376340-e002-42f7-a760-707ca8915b3e",
   "metadata": {},
   "outputs": [],
   "source": [
    "data_mean_list = []\n",
    "\n",
    "for col in data:\n",
    "    # print(col)\n",
    "    if col == \"Date\":\n",
    "        pass\n",
    "    else:\n",
    "        data_mean_list.append([col, data[col].mean()])\n",
    "    "
   ]
  },
  {
   "cell_type": "code",
   "execution_count": null,
   "id": "bd3bf0d5-f93c-4d84-9a15-19fba4cbf63e",
   "metadata": {},
   "outputs": [],
   "source": [
    "data_mean = pd.DataFrame(data_mean_list, columns=['language', 'mean'])\n",
    "data_mean.sample(5)"
   ]
  },
  {
   "cell_type": "code",
   "execution_count": null,
   "id": "4e2d63d4-0899-4ac5-802c-bc75f105a389",
   "metadata": {},
   "outputs": [],
   "source": [
    "data_mean = data_mean.sort_values(by=[\"mean\"], \n",
    "                                 ascending=False)\n",
    "data_mean"
   ]
  },
  {
   "cell_type": "code",
   "execution_count": null,
   "id": "d1534d6f-bb1b-4a79-9651-d0001111b87e",
   "metadata": {},
   "outputs": [],
   "source": [
    "plt.figure(figsize=(16, 6))\n",
    "plt.subplot(1, 2, 1)\n",
    "plt.title(\"Mean popularity o languages\")\n",
    "\n",
    "sns.barplot(data=data_mean, x='mean', y='language',\n",
    "           palette=generate_color_series(28))\n",
    "plt.xlabel(\"Mean popularity in %\")\n",
    "plt.ylabel(\"Programming language\")\n",
    "\n",
    "plt.subplot(1, 2, 2)\n",
    "data_mean_top10 = data_mean.nlargest(10, \"mean\")\n",
    "plt.title(\"Top 10 mean popular langauges\")\n",
    "donut_top10 = plt.Circle((0,0), 0.7, color=\"white\")\n",
    "plt.pie(data_mean_top10[\"mean\"], labels=data_mean_top10['language'],\n",
    "       wedgeprops={\n",
    "           \"linewidth\": 5, \"edgecolor\": \"white\"\n",
    "       },\n",
    "       colors=generate_color_series(10)\n",
    "       )\n",
    "p = plt.gcf()\n",
    "p.gca().add_artist(donut_top10)\n",
    "\n",
    "plt.show()"
   ]
  },
  {
   "cell_type": "code",
   "execution_count": null,
   "id": "cceae57c-8cec-4b96-bc30-346828a9b5d7",
   "metadata": {},
   "outputs": [],
   "source": [
    "top10_linechart_color =  generate_color_series(10)\n",
    "plt.figure(figsize=(14, 8))\n",
    "\n",
    "for i, element in enumerate(data_mean[\"language\"]):\n",
    "    plt.plot(data[\"Date\"], data[element], color=top10_linechart_color[i]\n",
    "            , label=element)\n",
    "    plt.legend()\n",
    "    \n",
    "    if i == 9: break\n",
    "    \n",
    "    plt.title(\"Popularity of langauges\")\n",
    "    plt.xlabel(\"Year\")\n",
    "    plt.ylabel(\"Mean populariry in %\")\n",
    "    \n",
    "    plt.legend(bbox_to_anchor=(1.04, 1), loc=\"upper left\")\n"
   ]
  },
  {
   "cell_type": "code",
   "execution_count": null,
   "id": "12b65e09-8696-4a34-b987-800ec28a206c",
   "metadata": {},
   "outputs": [],
   "source": [
    "dict_data = data.copy()\n",
    "dict_data.drop([\"Date\"], axis=1, inplace=True)\n",
    "series_data = dict_data.to_dict()"
   ]
  },
  {
   "cell_type": "code",
   "execution_count": null,
   "id": "f2e07b49-f006-4e6f-ac3d-3dddc131ca96",
   "metadata": {},
   "outputs": [],
   "source": [
    "dict_data"
   ]
  },
  {
   "cell_type": "code",
   "execution_count": null,
   "id": "2e5cc32e-6102-4728-9073-91218dc7e4ae",
   "metadata": {},
   "outputs": [],
   "source": [
    "series_data.keys()"
   ]
  },
  {
   "cell_type": "code",
   "execution_count": null,
   "id": "0b30e919-4375-4028-a7d4-4dc40659b817",
   "metadata": {},
   "outputs": [],
   "source": [
    "series_data.get(\"Ada\")[:10]"
   ]
  },
  {
   "cell_type": "code",
   "execution_count": null,
   "id": "cf752d65-af81-4059-b0b3-3e25b45b43c2",
   "metadata": {},
   "outputs": [],
   "source": [
    "bar_label = []\n",
    "for key in dict_data:\n",
    "    bar_label.append(key)\n",
    "\n",
    "bar_color = generate_color_series(28)\n",
    "# bar_color"
   ]
  },
  {
   "cell_type": "code",
   "execution_count": null,
   "id": "e986d20a-eff2-41ab-83b6-0c4ab12e4159",
   "metadata": {},
   "outputs": [],
   "source": [
    "fig = plt.figure(figsize=(10, 8))\n",
    "ax = fig.add_subplot(1, 1, 1)\n",
    "ax.set_xlim(0, 35)\n",
    "\n",
    "def animate(i):\n",
    "    i_value = []\n",
    "    for key in dict_data:\n",
    "        i_value.append(dict_data[key][i])\n",
    "        \n",
    "    i_value = tuple(i_value)\n",
    "    date_bar = data.Date[i].strftime(\"%Y %B\")\n",
    "    \n",
    "    ax.cla()\n",
    "    ax.set_xlim(0, 35)\n",
    "    ax.barh(bar_label, i_value, color=bar_color)\n",
    "    ax.set_title(f\"Popularity in % at : {date_bar}\", loc=\"left\")\n",
    "    plt.gca().invert_yaxis()\n",
    "\n",
    "anim = FuncAnimation(fig, animate, repeat=False, frames=len(dict_data))\n",
    "\n",
    "%time anim.save(\"bar_animation.gif\", writer=\"imagemagick\", fps=5)\n",
    "plt.close()"
   ]
  },
  {
   "cell_type": "code",
   "execution_count": null,
   "id": "09b1bc93-1e33-41a4-8cea-de33c7bacc14",
   "metadata": {},
   "outputs": [],
   "source": [
    "# ffffffffffff\n",
    "HTML(\"<img src='./bar_animation.gif' >\")"
   ]
  },
  {
   "cell_type": "code",
   "execution_count": null,
   "id": "a93988ad-d095-4e5b-b8ea-d7addd08d1ee",
   "metadata": {},
   "outputs": [],
   "source": [
    "donut_color = generate_color_series(10)\n",
    "top10_language = [\"Java\", \"PHP\", \"Python\", \"C/C++\", \"JavaScript\", \"C#\", \"Visual Basic\", \"Objective-C\", \"Perl\", \"Matlab\"]\n",
    "\n",
    "fig = plt.figure(figsize=(10, 8))\n",
    "ax = fig.add_subplot(1, 1, 1)\n",
    "\n",
    "\n",
    "def animate(i):\n",
    "    top10_value = []\n",
    "    for key in top10_language:\n",
    "        top10_value.append(dict_data[key][i])\n",
    "    top10_value = tuple(top10_value)\n",
    "    date_bar = data.Date[i].strftime(\"%Y %B\")\n",
    "    ax.cla()\n",
    "    donut_top10 = plt.Circle( (0,0), 0.7, color='white')\n",
    "    ax.pie(top10_value, labels=top10_language, wedgeprops = {\"linewidth\": 5, \"edgecolor\": \"white\"}, colors=donut_color)\n",
    "    p = plt.gcf()\n",
    "    p.gca().add_artist(donut_top10)\n",
    "    ax.set_title(f\"Populairty in % at: {date_bar}\", loc=\"left\")\n",
    "\n",
    "\n",
    "    \n",
    "ani = FuncAnimation(fig, animate, repeat=True, frames=len(dict_data))\n",
    "\n",
    "%time ani.save(\"donut_animation.gif\", writer=\"imagemagick\", fps=5)\n",
    "plt.close()"
   ]
  },
  {
   "cell_type": "code",
   "execution_count": null,
   "id": "a47017c4-139b-4f72-95a9-985ca4c8aef5",
   "metadata": {},
   "outputs": [],
   "source": [
    "HTML(\"<img src='./donut_animation.gif'\")"
   ]
  },
  {
   "cell_type": "code",
   "execution_count": null,
   "id": "0cef593e-fc2a-4101-a316-be1e76a63c74",
   "metadata": {},
   "outputs": [],
   "source": []
  },
  {
   "cell_type": "code",
   "execution_count": null,
   "id": "db2d8ed4-1252-4da6-9fb7-66471364ad5c",
   "metadata": {},
   "outputs": [],
   "source": []
  },
  {
   "cell_type": "code",
   "execution_count": null,
   "id": "69ccd8ee-b025-4e40-a4f6-f661897ffe26",
   "metadata": {},
   "outputs": [],
   "source": []
  },
  {
   "cell_type": "code",
   "execution_count": null,
   "id": "4f2b1a71-e8a5-4b34-8a5e-8f01a1d99591",
   "metadata": {},
   "outputs": [],
   "source": []
  }
 ],
 "metadata": {
  "kernelspec": {
   "display_name": "Python 3 (ipykernel)",
   "language": "python",
   "name": "python3"
  },
  "language_info": {
   "codemirror_mode": {
    "name": "ipython",
    "version": 3
   },
   "file_extension": ".py",
   "mimetype": "text/x-python",
   "name": "python",
   "nbconvert_exporter": "python",
   "pygments_lexer": "ipython3",
   "version": "3.11.4"
  }
 },
 "nbformat": 4,
 "nbformat_minor": 5
}
