{
 "cells": [
  {
   "cell_type": "code",
   "execution_count": 2,
   "id": "3c896d04-d2d6-4598-9f03-9a2ba0952db3",
   "metadata": {},
   "outputs": [
    {
     "data": {
      "text/plain": [
       "0.9972602739726028"
      ]
     },
     "execution_count": 2,
     "metadata": {},
     "output_type": "execute_result"
    }
   ],
   "source": [
    "a = 364/365\n",
    "a"
   ]
  },
  {
   "cell_type": "code",
   "execution_count": 5,
   "id": "bd880e52-acd6-48c2-b07c-869318494e50",
   "metadata": {},
   "outputs": [],
   "source": [
    "p = 1 - a"
   ]
  },
  {
   "cell_type": "code",
   "execution_count": 8,
   "id": "af4e9b71-b0d8-4e79-8b12-30c19499a028",
   "metadata": {},
   "outputs": [],
   "source": [
    "p *= 100"
   ]
  },
  {
   "cell_type": "code",
   "execution_count": 10,
   "id": "978980cb-700f-456b-ac0b-94f16974cb04",
   "metadata": {},
   "outputs": [
    {
     "data": {
      "text/plain": [
       "2.739726027397249"
      ]
     },
     "execution_count": 10,
     "metadata": {},
     "output_type": "execute_result"
    }
   ],
   "source": [
    "p * 10"
   ]
  },
  {
   "cell_type": "code",
   "execution_count": 11,
   "id": "7c73bf76-74bf-4901-96a0-1683529afb71",
   "metadata": {},
   "outputs": [
    {
     "data": {
      "text/plain": [
       "5.479452054794498"
      ]
     },
     "execution_count": 11,
     "metadata": {},
     "output_type": "execute_result"
    }
   ],
   "source": [
    "p * 20"
   ]
  },
  {
   "cell_type": "code",
   "execution_count": 12,
   "id": "f563c1dd-65bd-435f-ada6-a050ba22d12e",
   "metadata": {},
   "outputs": [
    {
     "data": {
      "text/plain": [
       "8.219178082191746"
      ]
     },
     "execution_count": 12,
     "metadata": {},
     "output_type": "execute_result"
    }
   ],
   "source": [
    "p * 30"
   ]
  },
  {
   "cell_type": "code",
   "execution_count": 13,
   "id": "387c492e-f7b3-4be5-8726-4bc83ca95656",
   "metadata": {},
   "outputs": [
    {
     "data": {
      "text/plain": [
       "10.958904109588996"
      ]
     },
     "execution_count": 13,
     "metadata": {},
     "output_type": "execute_result"
    }
   ],
   "source": [
    "p * 40"
   ]
  },
  {
   "cell_type": "code",
   "execution_count": 14,
   "id": "58c039e2-9eee-4e3f-bdc6-dc308bd37882",
   "metadata": {},
   "outputs": [
    {
     "data": {
      "text/plain": [
       "13.698630136986246"
      ]
     },
     "execution_count": 14,
     "metadata": {},
     "output_type": "execute_result"
    }
   ],
   "source": [
    "p * 50"
   ]
  },
  {
   "cell_type": "code",
   "execution_count": 15,
   "id": "208c4175-4230-4a10-b8ff-5e4754acd51d",
   "metadata": {},
   "outputs": [
    {
     "data": {
      "text/plain": [
       "27.397260273972492"
      ]
     },
     "execution_count": 15,
     "metadata": {},
     "output_type": "execute_result"
    }
   ],
   "source": [
    "p * 100"
   ]
  },
  {
   "cell_type": "code",
   "execution_count": null,
   "id": "eaaa928a-6ba0-4d0a-829b-16e528e64eb8",
   "metadata": {},
   "outputs": [],
   "source": []
  }
 ],
 "metadata": {
  "kernelspec": {
   "display_name": "Python 3 (ipykernel)",
   "language": "python",
   "name": "python3"
  },
  "language_info": {
   "codemirror_mode": {
    "name": "ipython",
    "version": 3
   },
   "file_extension": ".py",
   "mimetype": "text/x-python",
   "name": "python",
   "nbconvert_exporter": "python",
   "pygments_lexer": "ipython3",
   "version": "3.11.4"
  }
 },
 "nbformat": 4,
 "nbformat_minor": 5
}
